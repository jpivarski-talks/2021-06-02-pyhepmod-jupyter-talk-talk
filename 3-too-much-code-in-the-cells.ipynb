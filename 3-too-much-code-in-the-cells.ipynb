{
 "cells": [
  {
   "cell_type": "markdown",
   "id": "1c537f8d-31b5-40e3-8cad-5c92805b9a49",
   "metadata": {
    "slideshow": {
     "slide_type": "skip"
    }
   },
   "source": [
    "# 3. \"Too much code in the cells!\"\n",
    "\n",
    "We already have an example of this: [ligo-example.ipynb](ligo-example.ipynb).\n",
    "\n",
    "This is a problem technology can't solve. You have to _write_ for a first-time audience."
   ]
  },
  {
   "cell_type": "markdown",
   "id": "64647319-e79a-42f8-bd1d-679fcb19f22e",
   "metadata": {
    "slideshow": {
     "slide_type": "skip"
    }
   },
   "source": [
    "## Is this a Jupyter problem or a talk problem?\n",
    "\n",
    "It can be a problem in conventional talks...\n",
    "\n",
    "  * [source](https://www.nytimes.com/2010/04/27/world/27powerpoint.html?hp)\n",
    "  * [even older](https://www.zdnet.com/article/pentagon-cracks-down-on-powerpoint/)\n",
    "\n",
    "![](img/terrible-DoD-slide.png)"
   ]
  },
  {
   "cell_type": "markdown",
   "id": "225c59fa-b5a0-4b53-8927-3990be5afd0f",
   "metadata": {
    "slideshow": {
     "slide_type": "skip"
    }
   },
   "source": [
    "## But Jupyter in particular\n",
    "\n",
    "Since Jupyter covers the middle ground from programming environment to interactive demo:\n",
    "\n",
    "![](img/fundamental-3-modes-of-programming.svg)\n",
    "\n",
    "there's a temptation to include expose full programs in your demo."
   ]
  },
  {
   "cell_type": "code",
   "execution_count": null,
   "id": "297e3c34-114c-4808-a96a-8c55ac164b33",
   "metadata": {
    "slideshow": {
     "slide_type": "skip"
    }
   },
   "outputs": [],
   "source": [
    "import IPython.display\n",
    "\n",
    "IPython.display.HTML(\"\"\"\n",
    "<style>\n",
    ".blink {\n",
    "  animation: blinker 1s step-start infinite;\n",
    "  \n",
    "  text-align: center;\n",
    "  font-size: 50px;\n",
    "  color: red;\n",
    "}\n",
    "\n",
    "@keyframes blinker {\n",
    "  50% {\n",
    "    opacity: 0;\n",
    "  }\n",
    "}\n",
    "</style>\n",
    "\n",
    "<div class=\"blink\">Don't!</div>\n",
    "\"\"\")"
   ]
  },
  {
   "cell_type": "markdown",
   "id": "24686062-7d81-4775-9958-1b815b1b4cdc",
   "metadata": {
    "slideshow": {
     "slide_type": "skip"
    }
   },
   "source": [
    "## It's not enough to say what not to do. Here's an attempt to get it right."
   ]
  },
  {
   "cell_type": "markdown",
   "id": "1bdde55d-9897-4f39-8513-6707fdeb318a",
   "metadata": {
    "slideshow": {
     "slide_type": "slide"
    }
   },
   "source": [
    "# Let's learn how to add\n",
    "\n",
    "Addition is a wonderful thing. Everyone should learn to add. Even you!"
   ]
  },
  {
   "cell_type": "markdown",
   "id": "5df42360",
   "metadata": {
    "slideshow": {
     "slide_type": "slide"
    }
   },
   "source": [
    "Before we get to addition, let's start with the basics."
   ]
  },
  {
   "cell_type": "markdown",
   "id": "cee61722",
   "metadata": {
    "slideshow": {
     "slide_type": "fragment"
    }
   },
   "source": [
    "There are only two numbers, `0` and `1`."
   ]
  },
  {
   "cell_type": "markdown",
   "id": "2112cf0d",
   "metadata": {
    "slideshow": {
     "slide_type": "fragment"
    }
   },
   "source": [
    "The fundamental operations are `AND`, `OR`, and `XOR`.\n",
    "\n",
    "| a | b | a AND b | a OR b | a XOR b |\n",
    "|:-----:|:-----:|:-----------:|:----------:|:-----------:|\n",
    "| 0 | 0 | 0 | 0 | 0 |\n",
    "| 0 | 1 | 0 | 1 | 1 |\n",
    "| 1 | 0 | 0 | 1 | 1 |\n",
    "| 1 | 1 | 1 | 1 | 0 |"
   ]
  },
  {
   "cell_type": "markdown",
   "id": "b02a452c",
   "metadata": {
    "slideshow": {
     "slide_type": "slide"
    }
   },
   "source": [
    "Python can be used to calculate things."
   ]
  },
  {
   "cell_type": "code",
   "execution_count": null,
   "id": "8601c678",
   "metadata": {
    "slideshow": {
     "slide_type": "-"
    }
   },
   "outputs": [],
   "source": [
    "def AND(a, b):\n",
    "    if a == 0 and b == 0:\n",
    "        return 0\n",
    "    \n",
    "    elif a == 0 and b == 1:\n",
    "        return 0\n",
    "    \n",
    "    elif a == 1 and b == 0:\n",
    "        return 0\n",
    "    \n",
    "    elif a == 1 and b == 1:\n",
    "        return 1\n",
    "    \n",
    "    else:\n",
    "        raise TypeError(f\"{a} or {b} is not a number\")\n",
    "        \n",
    "AND(0, 1)"
   ]
  },
  {
   "cell_type": "markdown",
   "id": "55f354f1",
   "metadata": {
    "slideshow": {
     "slide_type": "slide"
    }
   },
   "source": [
    "Python can be used to calculate things."
   ]
  },
  {
   "cell_type": "code",
   "execution_count": null,
   "id": "b0ad34a6",
   "metadata": {
    "slideshow": {
     "slide_type": "-"
    }
   },
   "outputs": [],
   "source": [
    "def OR(a, b):\n",
    "    if a == 0 and b == 0:\n",
    "        return 0\n",
    "    \n",
    "    elif a == 0 and b == 1:\n",
    "        return 1\n",
    "    \n",
    "    elif a == 1 and b == 0:\n",
    "        return 1\n",
    "    \n",
    "    elif a == 1 and b == 1:\n",
    "        return 1\n",
    "    \n",
    "    else:\n",
    "        raise TypeError(f\"{a} or {b} is not a number\")\n",
    "\n",
    "OR(0, 1)"
   ]
  },
  {
   "cell_type": "markdown",
   "id": "fae34fdd",
   "metadata": {
    "slideshow": {
     "slide_type": "slide"
    }
   },
   "source": [
    "Python can be used to calculate things."
   ]
  },
  {
   "cell_type": "code",
   "execution_count": null,
   "id": "07777914",
   "metadata": {
    "slideshow": {
     "slide_type": "-"
    }
   },
   "outputs": [],
   "source": [
    "def XOR(a, b):\n",
    "    if a == 0 and b == 0:\n",
    "        return 0\n",
    "    \n",
    "    elif a == 0 and b == 1:\n",
    "        return 1\n",
    "    \n",
    "    elif a == 1 and b == 0:\n",
    "        return 1\n",
    "    \n",
    "    elif a == 1 and b == 1:\n",
    "        return 0\n",
    "    \n",
    "    else:\n",
    "        raise TypeError(f\"{a} or {b} is not a number\")\n",
    "\n",
    "XOR(0, 1)"
   ]
  },
  {
   "cell_type": "markdown",
   "id": "905ce069",
   "metadata": {
    "slideshow": {
     "slide_type": "slide"
    }
   },
   "source": [
    "Quick check:"
   ]
  },
  {
   "cell_type": "code",
   "execution_count": null,
   "id": "cbaa0dbb",
   "metadata": {
    "slideshow": {
     "slide_type": "-"
    }
   },
   "outputs": [],
   "source": [
    "print(f\"| a | b | AND(a, b) | OR(a, b) | XOR(a, b) |\")\n",
    "print(f\"+---+---+-----------+----------+-----------+\")\n",
    "\n",
    "for a in 0, 1:\n",
    "    for b in 0, 1:\n",
    "        print(f\"| {a} | {b} |     {AND(a, b)}     |     {OR(a, b)}    |     {XOR(a, b)}     |\")"
   ]
  },
  {
   "cell_type": "markdown",
   "id": "5ed16f0d",
   "metadata": {
    "slideshow": {
     "slide_type": "slide"
    }
   },
   "source": [
    "Before we can add multiple-digit numbers, we must add single-digit numbers."
   ]
  },
  {
   "cell_type": "markdown",
   "id": "cc3ac576",
   "metadata": {
    "slideshow": {
     "slide_type": "fragment"
    }
   },
   "source": [
    "The output has to be two-digit because `1 + 1 = 10`."
   ]
  },
  {
   "cell_type": "markdown",
   "id": "b37fc4c6",
   "metadata": {
    "slideshow": {
     "slide_type": "slide"
    }
   },
   "source": [
    "In the following table, note that the first digit is `AND(a, b)` and the second digit is `XOR(a, b)`.\n",
    "\n",
    "| a, b  |   | sum |\n",
    "|:-----:|:-:|:---:|\n",
    "| 0 + 0 | = | 00  |\n",
    "| 0 + 1 | = | 01  |\n",
    "| 1 + 0 | = | 01  |\n",
    "| 1 + 1 | = | 10  |"
   ]
  },
  {
   "cell_type": "code",
   "execution_count": null,
   "id": "12094a9d",
   "metadata": {
    "slideshow": {
     "slide_type": "fragment"
    }
   },
   "outputs": [],
   "source": [
    "def half_adder(a, b):\n",
    "    return AND(a, b), XOR(a, b)"
   ]
  },
  {
   "cell_type": "code",
   "execution_count": null,
   "id": "c9aaa97c",
   "metadata": {
    "scrolled": true,
    "slideshow": {
     "slide_type": "slide"
    }
   },
   "outputs": [],
   "source": [
    "print(f\"| a | b | half_adder(a, b) |\")\n",
    "print(f\"+---+---+------------------+\")\n",
    "\n",
    "for a in 0, 1:\n",
    "    for b in 0, 1:\n",
    "        print(f\"| {a} | {b} |      {half_adder(a, b)}      |\")"
   ]
  },
  {
   "cell_type": "markdown",
   "id": "592dfc9b",
   "metadata": {
    "slideshow": {
     "slide_type": "slide"
    }
   },
   "source": [
    "Beautiful graphic, created by [Marble Machine](https://en.wikipedia.org/wiki/User:Marble_machine):"
   ]
  },
  {
   "cell_type": "code",
   "execution_count": null,
   "id": "d31c4211",
   "metadata": {
    "slideshow": {
     "slide_type": "-"
    }
   },
   "outputs": [],
   "source": [
    "import IPython.display\n",
    "\n",
    "IPython.display.Image(\"img/Halfadder.gif\")"
   ]
  },
  {
   "cell_type": "markdown",
   "id": "347658b4",
   "metadata": {
    "slideshow": {
     "slide_type": "slide"
    }
   },
   "source": [
    "To add beyond a single digit, we need to incorporate a digit \"carried\" from the previous step."
   ]
  },
  {
   "cell_type": "code",
   "execution_count": null,
   "id": "c637af63",
   "metadata": {
    "slideshow": {
     "slide_type": "-"
    }
   },
   "outputs": [],
   "source": [
    "import IPython.display\n",
    "\n",
    "IPython.display.Image(\"img/Fulladder.gif\")"
   ]
  },
  {
   "cell_type": "code",
   "execution_count": null,
   "id": "a7e4b4f2",
   "metadata": {
    "slideshow": {
     "slide_type": "fragment"
    }
   },
   "outputs": [],
   "source": [
    "def full_adder(a, b, carry_in):\n",
    "    x = XOR(a, b)\n",
    "    return OR(AND(x, carry_in), AND(a, b)), XOR(x, carry_in)"
   ]
  },
  {
   "cell_type": "code",
   "execution_count": null,
   "id": "cf655f69",
   "metadata": {
    "slideshow": {
     "slide_type": "slide"
    }
   },
   "outputs": [],
   "source": [
    "print(f\"| a | b | c_in | full_adder(a, b, carry_in) |\")\n",
    "print(f\"+---+---+------+----------------------------+\")\n",
    "\n",
    "for a in 0, 1:\n",
    "    for b in 0, 1:\n",
    "        for carry_in in 0, 1:\n",
    "            print(f\"| {a} | {b} |  {carry_in}   |           {full_adder(a, b, carry_in)}           |\")"
   ]
  },
  {
   "cell_type": "markdown",
   "id": "f7b95f35",
   "metadata": {
    "slideshow": {
     "slide_type": "slide"
    }
   },
   "source": [
    "Or it can be expressed more simply as the composition of two `half_adders`:"
   ]
  },
  {
   "cell_type": "code",
   "execution_count": null,
   "id": "b052af24",
   "metadata": {
    "slideshow": {
     "slide_type": "-"
    }
   },
   "outputs": [],
   "source": [
    "def simple_full_adder(a, b, carry_in):\n",
    "    carry0, sum0 = half_adder(a, b)\n",
    "    carry1, sum1 = half_adder(sum0, carry_in)\n",
    "    return OR(carry0, carry1), sum1"
   ]
  },
  {
   "cell_type": "code",
   "execution_count": null,
   "id": "48071f7d",
   "metadata": {
    "slideshow": {
     "slide_type": "fragment"
    }
   },
   "outputs": [],
   "source": [
    "print(f\"| a | b | c_in | full_adder(a, b, carry_in) | ? |\")\n",
    "print(f\"+---+---+------+----------------------------+---+\")\n",
    "\n",
    "for a in 0, 1:\n",
    "    for b in 0, 1:\n",
    "        for carry_in in 0, 1:\n",
    "            if full_adder(a, b, carry_in) == simple_full_adder(a, b, carry_in):\n",
    "                same = \"✓\"\n",
    "            else:\n",
    "                same = \"X\"\n",
    "                \n",
    "            print(f\"| {a} | {b} |  {carry_in}   |           {full_adder(a, b, carry_in)}           | {same} |\")"
   ]
  },
  {
   "cell_type": "markdown",
   "id": "83b0c927",
   "metadata": {
    "slideshow": {
     "slide_type": "slide"
    }
   },
   "source": [
    "Now we can add 100, 1000, 10000... any number of digits we please!"
   ]
  },
  {
   "cell_type": "code",
   "execution_count": null,
   "id": "0a14d00d",
   "metadata": {
    "slideshow": {
     "slide_type": "-"
    }
   },
   "outputs": [],
   "source": [
    "def add_1000_digits(alist, blist):\n",
    "    assert len(alist) == len(blist) == 4\n",
    "    out = [0] * 4\n",
    "    \n",
    "    # -1 is the rightmost list item, the least-significant digit.\n",
    "    carry, out[-1] = half_adder(alist[-1], blist[-1])\n",
    "    carry, out[-2] = full_adder(alist[-2], blist[-2], carry)\n",
    "    carry, out[-3] = full_adder(alist[-3], blist[-3], carry)\n",
    "    carry, out[-4] = full_adder(alist[-4], blist[-4], carry)\n",
    "    \n",
    "    # what can we do with this? oh well...\n",
    "    del carry\n",
    "    \n",
    "    return out\n",
    "\n",
    "add_1000_digits([0, 0, 1, 1], [0, 1, 0, 1])"
   ]
  },
  {
   "cell_type": "code",
   "execution_count": null,
   "id": "85e17857",
   "metadata": {
    "slideshow": {
     "slide_type": "slide"
    }
   },
   "outputs": [],
   "source": [
    "counter = [0, 0, 0, 0]\n",
    "\n",
    "while counter != [1, 1, 1, 1]:\n",
    "    counter = add_1000_digits(counter, [0, 0, 0, 1])\n",
    "    print(counter)"
   ]
  },
  {
   "cell_type": "markdown",
   "id": "02a30e72",
   "metadata": {
    "slideshow": {
     "slide_type": "slide"
    }
   },
   "source": [
    "Addition is fun for everyone!"
   ]
  }
 ],
 "metadata": {
  "celltoolbar": "Slideshow",
  "kernelspec": {
   "display_name": "Python 3",
   "language": "python",
   "name": "python3"
  },
  "language_info": {
   "codemirror_mode": {
    "name": "ipython",
    "version": 3
   },
   "file_extension": ".py",
   "mimetype": "text/x-python",
   "name": "python",
   "nbconvert_exporter": "python",
   "pygments_lexer": "ipython3",
   "version": "3.8.10"
  }
 },
 "nbformat": 4,
 "nbformat_minor": 5
}
