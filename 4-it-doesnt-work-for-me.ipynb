{
 "cells": [
  {
   "cell_type": "markdown",
   "id": "cae489c4-4f6a-4dc6-8acf-fc6cfcef411b",
   "metadata": {},
   "source": [
    "# 4. \"It doesn't work for me!\"\n",
    "\n",
    "There are levels of presentation-interactivity:\n",
    "\n",
    "   1. **Everyone watches a pre-evaluated deck of slides.** _(Why use Jupyter for that?)_\n",
    "   2. **Everyone watches you evaluate the cells.** _(Okay, you've demonstrated that it runs in real-time.)_\n",
    "   3. **You ask everyone to press shift+Enter along with you.** _(Stronger demonstration that it runs, by running it on their computers.)_\n",
    "   4. **You stop now and then to ask, \"What if I had evaluated this differently?\"** _(Encourages exploration and feedback.)_\n",
    "   5. **You include formal exercises in the body of the talk.** _(Now they HAVE TO run it on their own.)_"
   ]
  },
  {
   "cell_type": "markdown",
   "id": "33ad8d18-c081-4462-8d30-4800621804f2",
   "metadata": {},
   "source": [
    "Interactivity is good, but if you're going to encourage or require it, it HAS TO WORK.\n",
    "\n",
    "In a tutorial session with 100 students, the students' laptops will be configured 95 different ways.\n",
    "\n",
    "   * Some have Windows, some MacOS, some Linux, a few FreeBSD, and one is running Haiku OS in an Amiga 4.1 virtual machine.\n",
    "   * Some install Python packages using pip, some conda, some Homebrew, some use their OS's package manager, some compile from source with tarballs...\n",
    "\n",
    "![](https://imgs.xkcd.com/comics/python_environment.png)"
   ]
  },
  {
   "cell_type": "markdown",
   "id": "a6b04ce9-9a21-419c-8e1c-c30430afca45",
   "metadata": {},
   "source": [
    "## Solution #1: provide requirements.txt (pip) or environment.yml (conda)\n",
    "\n",
    "You'll also have to explain how to make a virtual environment for pip or conda, and it won't work for everyone."
   ]
  },
  {
   "cell_type": "markdown",
   "id": "7a1cfa88-c735-4a03-b9c5-ca1ab3aff8f1",
   "metadata": {},
   "source": [
    "## Solution #2: use a cloud service\n",
    "\n",
    "Don't require your audience to install anything. Everybody has web browsers; they can connect to a service that runs it for them.\n",
    "\n",
    "<table>\n",
    "    <tr>\n",
    "        <td>\n",
    "            <a href=\"https://mybinder.org/\">\n",
    "                <img src=\"https://repository-images.githubusercontent.com/89419368/defaf600-c001-11e9-863c-4a857d8caaf4\" width=\"250px\">\n",
    "            </a>\n",
    "        </td>\n",
    "        <td>\n",
    "            <ul style=\"font-size: 10pt\">\n",
    "                <li>Any included data must fit in a GitHub repo and be public.</li>\n",
    "                <li>Zero credentials needed to log in.</li>\n",
    "                <li>CPU/memory performance may be limited; no GPUs.</li>\n",
    "            </ul>\n",
    "        </td>\n",
    "    </tr>\n",
    "</table>\n",
    "\n",
    "<table>\n",
    "    <tr>\n",
    "        <td>\n",
    "            <a href=\"https://swan.cern.ch/\">\n",
    "                <img src=\"https://swan.docs.cern.ch/images/logos/logo_swan_letters.png\" width=\"200px\">\n",
    "            </a>\n",
    "        </td>\n",
    "        <td>\n",
    "            <ul style=\"font-size: 10pt\">\n",
    "                <li>Data can be hosted by CERN.</li>\n",
    "                <li>Your audience will all need CERN credentials.</li>\n",
    "                <li>Heavy-duty CPUs (and GPUs) can be arranged.</li>\n",
    "            </ul>\n",
    "        </td>\n",
    "    </tr>\n",
    "</table>\n",
    "\n",
    "<table>\n",
    "    <tr>\n",
    "        <td>\n",
    "            <a href=\"https://jupyterhub.readthedocs.io/en/stable/\">\n",
    "                <img src=\"https://blog.colaberry.com/wp-content/uploads/2020/10/JH.png\" width=\"250px\">\n",
    "            </a>\n",
    "        </td>\n",
    "        <td>\n",
    "            <ul style=\"font-size: 10pt\">\n",
    "                <li>You have to host it yourself, but have complete freedom in how you do that.</li>\n",
    "            </ul>\n",
    "        </td>\n",
    "    </tr>\n",
    "</table>"
   ]
  },
  {
   "cell_type": "markdown",
   "id": "77cc1730-0fae-4696-bc1a-3fc3bc2f7efa",
   "metadata": {},
   "source": [
    "(Walk through of Binderizing this repo.)"
   ]
  }
 ],
 "metadata": {
  "kernelspec": {
   "display_name": "Python 3",
   "language": "python",
   "name": "python3"
  },
  "language_info": {
   "codemirror_mode": {
    "name": "ipython",
    "version": 3
   },
   "file_extension": ".py",
   "mimetype": "text/x-python",
   "name": "python",
   "nbconvert_exporter": "python",
   "pygments_lexer": "ipython3",
   "version": "3.8.10"
  }
 },
 "nbformat": 4,
 "nbformat_minor": 5
}
